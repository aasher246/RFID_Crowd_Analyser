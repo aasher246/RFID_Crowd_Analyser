{
 "cells": [
  {
   "cell_type": "markdown",
   "metadata": {
    "run_control": {
     "frozen": true,
     "read_only": true
    }
   },
   "source": [
    "![Cisco Networking Academy](/nbextensions/chestnut/cisco-mwo-heading.png)"
   ]
  },
  {
   "cell_type": "markdown",
   "metadata": {},
   "source": [
    "Connect an Arduino to the Raspberry Pi using USB.\n",
    "\n",
    "Run the following to flash the Arduino with Standard Firmata. The arguments are optional.\n",
    "\n",
    "**1 First command are magic commands to ask Linux, the output must manually pasted in the flushing commands**"
   ]
  },
  {
   "cell_type": "code",
   "execution_count": null,
   "metadata": {},
   "outputs": [],
   "source": [
    "%%bash\n",
    "# ^^^ The commands below are to be executed as Linux Bash commands. \n",
    "# You can get the same output by opening a terminal connection to the device and executing these commands manually.\n",
    "\n",
    "dmesg | grep -v disconnect | grep -Eo \"tty(ACM|USB).\" | tail -1 "
   ]
  },
  {
   "cell_type": "markdown",
   "metadata": {},
   "source": [
    "**2 Automatic setting a variable for the internal Linux-Arduino-Port** "
   ]
  },
  {
   "cell_type": "code",
   "execution_count": 1,
   "metadata": {},
   "outputs": [
    {
     "name": "stdout",
     "output_type": "stream",
     "text": [
      "/dev/ttyACM0\n"
     ]
    }
   ],
   "source": [
    "from subprocess import Popen, PIPE\n",
    "\n",
    "stdout = Popen('dmesg | grep -v disconnect | grep -Eo \"tty(ACM|USB).\" | tail -1', shell=True, stdout=PIPE).stdout\n",
    "output = stdout.read()  # Output in binary form'\n",
    "#print (output)\n",
    "encoding = 'utf-8'     \n",
    "port = str(output, encoding) #encoding to str\n",
    "port_str = '/dev/' + port    # build the dev from Linux\n",
    "port = port_str.split('\\n')[0] # remove a \\n inside the string\n",
    "print (port)\n"
   ]
  },
  {
   "cell_type": "code",
   "execution_count": 2,
   "metadata": {},
   "outputs": [
    {
     "name": "stdout",
     "output_type": "stream",
     "text": [
      "Flashing Standard Firmata to a USB-connected Arduino. Please wait...\n",
      "-------------------------\n",
      "Arduino.mk Configuration:\n",
      "- [AUTODETECTED]       CURRENT_OS = LINUX \n",
      "- [USER]               ARDUINO_DIR = /usr/share/arduino \n",
      "- [USER]               ARDMK_DIR = /usr/share/arduino \n",
      "- [AUTODETECTED]       ARDUINO_VERSION = 105 \n",
      "- [DEFAULT]            ARCHITECTURE =  \n",
      "- [DEFAULT]            ARDMK_VENDOR = arduino \n",
      "- [DEFAULT]            ARDUINO_SKETCHBOOK =  \n",
      "- [BUNDLED]            AVR_TOOLS_DIR = /usr/share/arduino/hardware/tools/avr (in Arduino distribution)\n",
      "- [COMPUTED]           ARDUINO_LIB_PATH = /usr/share/arduino/libraries (from ARDUINO_DIR)\n",
      "- [COMPUTED]           ARDUINO_VAR_PATH = /usr/share/arduino/hardware/arduino//variants (from ARDUINO_DIR)\n",
      "- [COMPUTED]           BOARDS_TXT = /usr/share/arduino/hardware/arduino//boards.txt (from ARDUINO_DIR)\n",
      "- [DEFAULT]            USER_LIB_PATH = /libraries (in user sketchbook)\n",
      "- [DEFAULT]            PRE_BUILD_HOOK = pre-build-hook.sh \n",
      "- [DEFAULT]            BOARD_TAG = uno \n",
      "- [COMPUTED]           CORE = arduino (from build.core)\n",
      "- [COMPUTED]           VARIANT = standard (from build.variant)\n",
      "- [COMPUTED]           OBJDIR = build-uno (from BOARD_TAG)\n",
      "- [COMPUTED]           ARDUINO_CORE_PATH = /usr/share/arduino/hardware/arduino//cores/arduino (from ARDUINO_DIR, BOARD_TAG and boards.txt)\n",
      "- [ASSUMED]            MONITOR_BAUDRATE = 9600 \n",
      "- [DEFAULT]            OPTIMIZATION_LEVEL = s \n",
      "- [DEFAULT]            MCU_FLAG_NAME = mmcu \n",
      "- [DEFAULT]            CFLAGS_STD = -std=gnu11 -flto -fno-fat-lto-objects \n",
      "- [DEFAULT]            CXXFLAGS_STD = -std=gnu++11 -fno-threadsafe-statics -flto \n",
      "- [COMPUTED]           DEVICE_PATH = /dev/ttyACM0 (from MONITOR_PORT)\n",
      "- [DEFAULT]            FORCE_MONITOR_PORT =  \n",
      "- [AUTODETECTED]       Size utility: AVR-aware for enhanced output\n",
      "-\n",
      "-                      ARDUINO_LIBS =\n",
      "- [SYSTEM]               Firmata\n",
      "- [SYSTEM]               Servo\n",
      "- [SYSTEM]               Wire\n",
      "- [COMPUTED]           BOOTLOADER_PARENT = /usr/share/arduino/hardware/arduino//bootloaders (from ARDUINO_DIR)\n",
      "- [COMPUTED]           ARDMK_VERSION = 1.5 \n",
      "- [COMPUTED]           CC_VERSION = 5.4.0 (avr-gcc)\n",
      "-------------------------\n",
      "mkdir -p build-uno\n",
      "/usr/share/arduino/hardware/tools/avr/bin/avr-g++ -x c++ -include Arduino.h -MMD -c -mmcu=atmega328p -DF_CPU=16000000L -DARDUINO=105  -D__PROG_TYPES_COMPAT__ -I/usr/share/arduino/hardware/arduino//cores/arduino -I/usr/share/arduino/hardware/arduino//variants/standard    -I/usr/share/arduino/libraries/Firmata    -I/usr/share/arduino/libraries/Servo    -I/usr/share/arduino/libraries/Wire -I/usr/share/arduino/libraries/Wire/utility   -Wall -ffunction-sections -fdata-sections -Os -fpermissive -fno-exceptions -std=gnu++11 -fno-threadsafe-statics -flto StandardFirmata.ino -o build-uno/StandardFirmata.ino.o\n",
      "/usr/share/arduino/hardware/tools/avr/bin/avr-gcc -MMD -c -mmcu=atmega328p -DF_CPU=16000000L -DARDUINO=105  -D__PROG_TYPES_COMPAT__ -I/usr/share/arduino/hardware/arduino//cores/arduino -I/usr/share/arduino/hardware/arduino//variants/standard    -I/usr/share/arduino/libraries/Firmata    -I/usr/share/arduino/libraries/Servo    -I/usr/share/arduino/libraries/Wire -I/usr/share/arduino/libraries/Wire/utility   -Wall -ffunction-sections -fdata-sections -Os -std=gnu11 -flto -fno-fat-lto-objects /usr/share/arduino/hardware/arduino//cores/arduino/wiring.c -o build-uno/core/wiring.c.o\n",
      "/usr/share/arduino/hardware/tools/avr/bin/avr-gcc -MMD -c -mmcu=atmega328p -DF_CPU=16000000L -DARDUINO=105  -D__PROG_TYPES_COMPAT__ -I/usr/share/arduino/hardware/arduino//cores/arduino -I/usr/share/arduino/hardware/arduino//variants/standard    -I/usr/share/arduino/libraries/Firmata    -I/usr/share/arduino/libraries/Servo    -I/usr/share/arduino/libraries/Wire -I/usr/share/arduino/libraries/Wire/utility   -Wall -ffunction-sections -fdata-sections -Os -std=gnu11 -flto -fno-fat-lto-objects /usr/share/arduino/hardware/arduino//cores/arduino/WInterrupts.c -o build-uno/core/WInterrupts.c.o\n",
      "/usr/share/arduino/hardware/tools/avr/bin/avr-gcc -MMD -c -mmcu=atmega328p -DF_CPU=16000000L -DARDUINO=105  -D__PROG_TYPES_COMPAT__ -I/usr/share/arduino/hardware/arduino//cores/arduino -I/usr/share/arduino/hardware/arduino//variants/standard    -I/usr/share/arduino/libraries/Firmata    -I/usr/share/arduino/libraries/Servo    -I/usr/share/arduino/libraries/Wire -I/usr/share/arduino/libraries/Wire/utility   -Wall -ffunction-sections -fdata-sections -Os -std=gnu11 -flto -fno-fat-lto-objects /usr/share/arduino/hardware/arduino//cores/arduino/wiring_digital.c -o build-uno/core/wiring_digital.c.o\n",
      "/usr/share/arduino/hardware/tools/avr/bin/avr-gcc -MMD -c -mmcu=atmega328p -DF_CPU=16000000L -DARDUINO=105  -D__PROG_TYPES_COMPAT__ -I/usr/share/arduino/hardware/arduino//cores/arduino -I/usr/share/arduino/hardware/arduino//variants/standard    -I/usr/share/arduino/libraries/Firmata    -I/usr/share/arduino/libraries/Servo    -I/usr/share/arduino/libraries/Wire -I/usr/share/arduino/libraries/Wire/utility   -Wall -ffunction-sections -fdata-sections -Os -std=gnu11 -flto -fno-fat-lto-objects /usr/share/arduino/hardware/arduino//cores/arduino/wiring_pulse.c -o build-uno/core/wiring_pulse.c.o\n",
      "/usr/share/arduino/hardware/tools/avr/bin/avr-gcc -MMD -c -mmcu=atmega328p -DF_CPU=16000000L -DARDUINO=105  -D__PROG_TYPES_COMPAT__ -I/usr/share/arduino/hardware/arduino//cores/arduino -I/usr/share/arduino/hardware/arduino//variants/standard    -I/usr/share/arduino/libraries/Firmata    -I/usr/share/arduino/libraries/Servo    -I/usr/share/arduino/libraries/Wire -I/usr/share/arduino/libraries/Wire/utility   -Wall -ffunction-sections -fdata-sections -Os -std=gnu11 -flto -fno-fat-lto-objects /usr/share/arduino/hardware/arduino//cores/arduino/wiring_analog.c -o build-uno/core/wiring_analog.c.o\n",
      "/usr/share/arduino/hardware/tools/avr/bin/avr-gcc -MMD -c -mmcu=atmega328p -DF_CPU=16000000L -DARDUINO=105  -D__PROG_TYPES_COMPAT__ -I/usr/share/arduino/hardware/arduino//cores/arduino -I/usr/share/arduino/hardware/arduino//variants/standard    -I/usr/share/arduino/libraries/Firmata    -I/usr/share/arduino/libraries/Servo    -I/usr/share/arduino/libraries/Wire -I/usr/share/arduino/libraries/Wire/utility   -Wall -ffunction-sections -fdata-sections -Os -std=gnu11 -flto -fno-fat-lto-objects /usr/share/arduino/hardware/arduino//cores/arduino/wiring_shift.c -o build-uno/core/wiring_shift.c.o\n",
      "/usr/share/arduino/hardware/tools/avr/bin/avr-gcc -MMD -c -mmcu=atmega328p -DF_CPU=16000000L -DARDUINO=105  -D__PROG_TYPES_COMPAT__ -I/usr/share/arduino/hardware/arduino//cores/arduino -I/usr/share/arduino/hardware/arduino//variants/standard    -I/usr/share/arduino/libraries/Firmata    -I/usr/share/arduino/libraries/Servo    -I/usr/share/arduino/libraries/Wire -I/usr/share/arduino/libraries/Wire/utility   -Wall -ffunction-sections -fdata-sections -Os -std=gnu11 -flto -fno-fat-lto-objects /usr/share/arduino/hardware/arduino//cores/arduino/avr-libc/realloc.c -o build-uno/core/avr-libc/realloc.c.o\n",
      "/usr/share/arduino/hardware/tools/avr/bin/avr-gcc -MMD -c -mmcu=atmega328p -DF_CPU=16000000L -DARDUINO=105  -D__PROG_TYPES_COMPAT__ -I/usr/share/arduino/hardware/arduino//cores/arduino -I/usr/share/arduino/hardware/arduino//variants/standard    -I/usr/share/arduino/libraries/Firmata    -I/usr/share/arduino/libraries/Servo    -I/usr/share/arduino/libraries/Wire -I/usr/share/arduino/libraries/Wire/utility   -Wall -ffunction-sections -fdata-sections -Os -std=gnu11 -flto -fno-fat-lto-objects /usr/share/arduino/hardware/arduino//cores/arduino/avr-libc/malloc.c -o build-uno/core/avr-libc/malloc.c.o\n",
      "/usr/share/arduino/hardware/tools/avr/bin/avr-g++ -MMD -c -mmcu=atmega328p -DF_CPU=16000000L -DARDUINO=105  -D__PROG_TYPES_COMPAT__ -I/usr/share/arduino/hardware/arduino//cores/arduino -I/usr/share/arduino/hardware/arduino//variants/standard    -I/usr/share/arduino/libraries/Firmata    -I/usr/share/arduino/libraries/Servo    -I/usr/share/arduino/libraries/Wire -I/usr/share/arduino/libraries/Wire/utility   -Wall -ffunction-sections -fdata-sections -Os -fpermissive -fno-exceptions -std=gnu++11 -fno-threadsafe-statics -flto /usr/share/arduino/hardware/arduino//cores/arduino/IPAddress.cpp -o build-uno/core/IPAddress.cpp.o\n",
      "/usr/share/arduino/hardware/tools/avr/bin/avr-g++ -MMD -c -mmcu=atmega328p -DF_CPU=16000000L -DARDUINO=105  -D__PROG_TYPES_COMPAT__ -I/usr/share/arduino/hardware/arduino//cores/arduino -I/usr/share/arduino/hardware/arduino//variants/standard    -I/usr/share/arduino/libraries/Firmata    -I/usr/share/arduino/libraries/Servo    -I/usr/share/arduino/libraries/Wire -I/usr/share/arduino/libraries/Wire/utility   -Wall -ffunction-sections -fdata-sections -Os -fpermissive -fno-exceptions -std=gnu++11 -fno-threadsafe-statics -flto /usr/share/arduino/hardware/arduino//cores/arduino/new.cpp -o build-uno/core/new.cpp.o\n",
      "/usr/share/arduino/hardware/tools/avr/bin/avr-g++ -MMD -c -mmcu=atmega328p -DF_CPU=16000000L -DARDUINO=105  -D__PROG_TYPES_COMPAT__ -I/usr/share/arduino/hardware/arduino//cores/arduino -I/usr/share/arduino/hardware/arduino//variants/standard    -I/usr/share/arduino/libraries/Firmata    -I/usr/share/arduino/libraries/Servo    -I/usr/share/arduino/libraries/Wire -I/usr/share/arduino/libraries/Wire/utility   -Wall -ffunction-sections -fdata-sections -Os -fpermissive -fno-exceptions -std=gnu++11 -fno-threadsafe-statics -flto /usr/share/arduino/hardware/arduino//cores/arduino/WString.cpp -o build-uno/core/WString.cpp.o\n",
      "/usr/share/arduino/hardware/tools/avr/bin/avr-g++ -MMD -c -mmcu=atmega328p -DF_CPU=16000000L -DARDUINO=105  -D__PROG_TYPES_COMPAT__ -I/usr/share/arduino/hardware/arduino//cores/arduino -I/usr/share/arduino/hardware/arduino//variants/standard    -I/usr/share/arduino/libraries/Firmata    -I/usr/share/arduino/libraries/Servo    -I/usr/share/arduino/libraries/Wire -I/usr/share/arduino/libraries/Wire/utility   -Wall -ffunction-sections -fdata-sections -Os -fpermissive -fno-exceptions -std=gnu++11 -fno-threadsafe-statics -flto /usr/share/arduino/hardware/arduino//cores/arduino/Tone.cpp -o build-uno/core/Tone.cpp.o\n",
      "/usr/share/arduino/hardware/tools/avr/bin/avr-g++ -MMD -c -mmcu=atmega328p -DF_CPU=16000000L -DARDUINO=105  -D__PROG_TYPES_COMPAT__ -I/usr/share/arduino/hardware/arduino//cores/arduino -I/usr/share/arduino/hardware/arduino//variants/standard    -I/usr/share/arduino/libraries/Firmata    -I/usr/share/arduino/libraries/Servo    -I/usr/share/arduino/libraries/Wire -I/usr/share/arduino/libraries/Wire/utility   -Wall -ffunction-sections -fdata-sections -Os -fpermissive -fno-exceptions -std=gnu++11 -fno-threadsafe-statics -flto /usr/share/arduino/hardware/arduino//cores/arduino/Print.cpp -o build-uno/core/Print.cpp.o\n",
      "/usr/share/arduino/hardware/tools/avr/bin/avr-g++ -MMD -c -mmcu=atmega328p -DF_CPU=16000000L -DARDUINO=105  -D__PROG_TYPES_COMPAT__ -I/usr/share/arduino/hardware/arduino//cores/arduino -I/usr/share/arduino/hardware/arduino//variants/standard    -I/usr/share/arduino/libraries/Firmata    -I/usr/share/arduino/libraries/Servo    -I/usr/share/arduino/libraries/Wire -I/usr/share/arduino/libraries/Wire/utility   -Wall -ffunction-sections -fdata-sections -Os -fpermissive -fno-exceptions -std=gnu++11 -fno-threadsafe-statics -flto /usr/share/arduino/hardware/arduino//cores/arduino/HID.cpp -o build-uno/core/HID.cpp.o\n",
      "/usr/share/arduino/hardware/tools/avr/bin/avr-g++ -MMD -c -mmcu=atmega328p -DF_CPU=16000000L -DARDUINO=105  -D__PROG_TYPES_COMPAT__ -I/usr/share/arduino/hardware/arduino//cores/arduino -I/usr/share/arduino/hardware/arduino//variants/standard    -I/usr/share/arduino/libraries/Firmata    -I/usr/share/arduino/libraries/Servo    -I/usr/share/arduino/libraries/Wire -I/usr/share/arduino/libraries/Wire/utility   -Wall -ffunction-sections -fdata-sections -Os -fpermissive -fno-exceptions -std=gnu++11 -fno-threadsafe-statics -flto /usr/share/arduino/hardware/arduino//cores/arduino/Stream.cpp -o build-uno/core/Stream.cpp.o\n",
      "/usr/share/arduino/hardware/tools/avr/bin/avr-g++ -MMD -c -mmcu=atmega328p -DF_CPU=16000000L -DARDUINO=105  -D__PROG_TYPES_COMPAT__ -I/usr/share/arduino/hardware/arduino//cores/arduino -I/usr/share/arduino/hardware/arduino//variants/standard    -I/usr/share/arduino/libraries/Firmata    -I/usr/share/arduino/libraries/Servo    -I/usr/share/arduino/libraries/Wire -I/usr/share/arduino/libraries/Wire/utility   -Wall -ffunction-sections -fdata-sections -Os -fpermissive -fno-exceptions -std=gnu++11 -fno-threadsafe-statics -flto /usr/share/arduino/hardware/arduino//cores/arduino/USBCore.cpp -o build-uno/core/USBCore.cpp.o\n",
      "/usr/share/arduino/hardware/tools/avr/bin/avr-g++ -MMD -c -mmcu=atmega328p -DF_CPU=16000000L -DARDUINO=105  -D__PROG_TYPES_COMPAT__ -I/usr/share/arduino/hardware/arduino//cores/arduino -I/usr/share/arduino/hardware/arduino//variants/standard    -I/usr/share/arduino/libraries/Firmata    -I/usr/share/arduino/libraries/Servo    -I/usr/share/arduino/libraries/Wire -I/usr/share/arduino/libraries/Wire/utility   -Wall -ffunction-sections -fdata-sections -Os -fpermissive -fno-exceptions -std=gnu++11 -fno-threadsafe-statics -flto /usr/share/arduino/hardware/arduino//cores/arduino/WMath.cpp -o build-uno/core/WMath.cpp.o\n",
      "/usr/share/arduino/hardware/tools/avr/bin/avr-g++ -MMD -c -mmcu=atmega328p -DF_CPU=16000000L -DARDUINO=105  -D__PROG_TYPES_COMPAT__ -I/usr/share/arduino/hardware/arduino//cores/arduino -I/usr/share/arduino/hardware/arduino//variants/standard    -I/usr/share/arduino/libraries/Firmata    -I/usr/share/arduino/libraries/Servo    -I/usr/share/arduino/libraries/Wire -I/usr/share/arduino/libraries/Wire/utility   -Wall -ffunction-sections -fdata-sections -Os -fpermissive -fno-exceptions -std=gnu++11 -fno-threadsafe-statics -flto /usr/share/arduino/hardware/arduino//cores/arduino/main.cpp -o build-uno/core/main.cpp.o\n",
      "/usr/share/arduino/hardware/tools/avr/bin/avr-g++ -MMD -c -mmcu=atmega328p -DF_CPU=16000000L -DARDUINO=105  -D__PROG_TYPES_COMPAT__ -I/usr/share/arduino/hardware/arduino//cores/arduino -I/usr/share/arduino/hardware/arduino//variants/standard    -I/usr/share/arduino/libraries/Firmata    -I/usr/share/arduino/libraries/Servo    -I/usr/share/arduino/libraries/Wire -I/usr/share/arduino/libraries/Wire/utility   -Wall -ffunction-sections -fdata-sections -Os -fpermissive -fno-exceptions -std=gnu++11 -fno-threadsafe-statics -flto /usr/share/arduino/hardware/arduino//cores/arduino/HardwareSerial.cpp -o build-uno/core/HardwareSerial.cpp.o\n",
      "/usr/share/arduino/hardware/tools/avr/bin/avr-g++ -MMD -c -mmcu=atmega328p -DF_CPU=16000000L -DARDUINO=105  -D__PROG_TYPES_COMPAT__ -I/usr/share/arduino/hardware/arduino//cores/arduino -I/usr/share/arduino/hardware/arduino//variants/standard    -I/usr/share/arduino/libraries/Firmata    -I/usr/share/arduino/libraries/Servo    -I/usr/share/arduino/libraries/Wire -I/usr/share/arduino/libraries/Wire/utility   -Wall -ffunction-sections -fdata-sections -Os -fpermissive -fno-exceptions -std=gnu++11 -fno-threadsafe-statics -flto /usr/share/arduino/hardware/arduino//cores/arduino/CDC.cpp -o build-uno/core/CDC.cpp.o\n",
      "/usr/share/arduino/hardware/tools/avr/bin/avr-gcc -MMD -c -mmcu=atmega328p -DF_CPU=16000000L -DARDUINO=105  -D__PROG_TYPES_COMPAT__ -I/usr/share/arduino/hardware/arduino//cores/arduino -I/usr/share/arduino/hardware/arduino//variants/standard    -I/usr/share/arduino/libraries/Firmata    -I/usr/share/arduino/libraries/Servo    -I/usr/share/arduino/libraries/Wire -I/usr/share/arduino/libraries/Wire/utility   -Wall -ffunction-sections -fdata-sections -Os -std=gnu11 -flto -fno-fat-lto-objects /usr/share/arduino/libraries/Wire/utility/twi.c -o build-uno/libs/Wire/utility/twi.c.o\n",
      "/usr/share/arduino/hardware/tools/avr/bin/avr-g++ -MMD -c -mmcu=atmega328p -DF_CPU=16000000L -DARDUINO=105  -D__PROG_TYPES_COMPAT__ -I/usr/share/arduino/hardware/arduino//cores/arduino -I/usr/share/arduino/hardware/arduino//variants/standard    -I/usr/share/arduino/libraries/Firmata    -I/usr/share/arduino/libraries/Servo    -I/usr/share/arduino/libraries/Wire -I/usr/share/arduino/libraries/Wire/utility   -Wall -ffunction-sections -fdata-sections -Os -fpermissive -fno-exceptions -std=gnu++11 -fno-threadsafe-statics -flto /usr/share/arduino/libraries/Firmata/Firmata.cpp -o build-uno/libs/Firmata/Firmata.cpp.o\n",
      "/usr/share/arduino/hardware/tools/avr/bin/avr-g++ -MMD -c -mmcu=atmega328p -DF_CPU=16000000L -DARDUINO=105  -D__PROG_TYPES_COMPAT__ -I/usr/share/arduino/hardware/arduino//cores/arduino -I/usr/share/arduino/hardware/arduino//variants/standard    -I/usr/share/arduino/libraries/Firmata    -I/usr/share/arduino/libraries/Servo    -I/usr/share/arduino/libraries/Wire -I/usr/share/arduino/libraries/Wire/utility   -Wall -ffunction-sections -fdata-sections -Os -fpermissive -fno-exceptions -std=gnu++11 -fno-threadsafe-statics -flto /usr/share/arduino/libraries/Servo/Servo.cpp -o build-uno/libs/Servo/Servo.cpp.o\n",
      "/usr/share/arduino/hardware/tools/avr/bin/avr-g++ -MMD -c -mmcu=atmega328p -DF_CPU=16000000L -DARDUINO=105  -D__PROG_TYPES_COMPAT__ -I/usr/share/arduino/hardware/arduino//cores/arduino -I/usr/share/arduino/hardware/arduino//variants/standard    -I/usr/share/arduino/libraries/Firmata    -I/usr/share/arduino/libraries/Servo    -I/usr/share/arduino/libraries/Wire -I/usr/share/arduino/libraries/Wire/utility   -Wall -ffunction-sections -fdata-sections -Os -fpermissive -fno-exceptions -std=gnu++11 -fno-threadsafe-statics -flto /usr/share/arduino/libraries/Wire/Wire.cpp -o build-uno/libs/Wire/Wire.cpp.o\n",
      "/usr/share/arduino/hardware/tools/avr/bin/avr-gcc-ar rcs build-uno/libcore.a  build-uno/core/wiring.c.o  build-uno/core/WInterrupts.c.o  build-uno/core/wiring_digital.c.o  build-uno/core/wiring_pulse.c.o  build-uno/core/wiring_analog.c.o  build-uno/core/wiring_shift.c.o  build-uno/core/avr-libc/realloc.c.o  build-uno/core/avr-libc/malloc.c.o  build-uno/core/IPAddress.cpp.o  build-uno/core/new.cpp.o  build-uno/core/WString.cpp.o  build-uno/core/Tone.cpp.o  build-uno/core/Print.cpp.o  build-uno/core/HID.cpp.o  build-uno/core/Stream.cpp.o  build-uno/core/USBCore.cpp.o  build-uno/core/WMath.cpp.o  build-uno/core/main.cpp.o  build-uno/core/HardwareSerial.cpp.o  build-uno/core/CDC.cpp.o build-uno/libs/Wire/utility/twi.c.o build-uno/libs/Firmata/Firmata.cpp.o build-uno/libs/Servo/Servo.cpp.o build-uno/libs/Wire/Wire.cpp.o     \n",
      "/usr/share/arduino/hardware/tools/avr/bin/avr-gcc -mmcu=atmega328p -Wl,--gc-sections -Os -flto -fuse-linker-plugin -o build-uno/firmata.elf build-uno/StandardFirmata.ino.o build-uno/libcore.a   -lc -lm \n",
      "/usr/share/arduino/hardware/tools/avr/bin/avr-objcopy -O ihex -R .eeprom build-uno/firmata.elf build-uno/firmata.hex\n",
      "\n",
      "/usr/share/arduino/hardware/tools/avr/bin/avr-size --mcu=atmega328p -C --format=avr build-uno/firmata.elf\n",
      "AVR Memory Usage\n",
      "----------------\n",
      "Device: atmega328p\n",
      "\n",
      "Program:    9962 bytes (30.4% Full)\n",
      "(.text + .data + .bootloader)\n",
      "\n",
      "Data:        856 bytes (41.8% Full)\n",
      "(.data + .bss + .noinit)\n",
      "\n",
      "\n",
      "make reset\n",
      "make[1]: Entering directory '/root/.cache/chestnut/arduino/firmata'\n",
      "/usr/bin/ard-reset-arduino  /dev/ttyACM0\n",
      "make[1]: Leaving directory '/root/.cache/chestnut/arduino/firmata'\n",
      "make do_upload\n",
      "make[1]: Entering directory '/root/.cache/chestnut/arduino/firmata'\n",
      "/usr/share/arduino/hardware/tools/avr/../avrdude -q -V -p atmega328p -C /usr/share/arduino/hardware/tools/avr/../avrdude.conf -D -c arduino -b 115200 -P /dev/ttyACM0 \\\n",
      "\t\t-U flash:w:build-uno/firmata.hex:i\n",
      "make[1]: Leaving directory '/root/.cache/chestnut/arduino/firmata'\n",
      "Done flashing.\n"
     ]
    },
    {
     "name": "stderr",
     "output_type": "stream",
     "text": [
      "In file included from /usr/share/arduino/libraries/Firmata/Firmata.h:16:0,\n",
      "                 from StandardFirmata.ino:34:\n",
      "/usr/share/arduino/libraries/Firmata/Boards.h: In function ‘unsigned char writePort(byte, byte, byte)’:\n",
      "/usr/share/arduino/libraries/Firmata/Boards.h:355:1: warning: no return statement in function returning non-void [-Wreturn-type]\n",
      " }\n",
      " ^\n",
      "StandardFirmata.ino: In function ‘void sysexCallback(byte, byte, byte*)’:\n",
      "StandardFirmata.ino:396:43: warning: suggest parentheses around assignment used as truth value [-Wparentheses]\n",
      "           if (query[i].addr = slaveAddress) {\n",
      "                                           ^\n",
      "StandardFirmata.ino: In function ‘void loop()’:\n",
      "StandardFirmata.ino:622:38: warning: comparison between signed and unsigned integer expressions [-Wsign-compare]\n",
      "   if (currentMillis - previousMillis > samplingInterval) {\n",
      "                                      ^\n",
      "/usr/share/arduino/hardware/arduino//cores/arduino/HardwareSerial.cpp: In function ‘void store_char(unsigned char, ring_buffer*)’:\n",
      "/usr/share/arduino/hardware/arduino//cores/arduino/HardwareSerial.cpp:100:9: warning: comparison between signed and unsigned integer expressions [-Wsign-compare]\n",
      "   if (i != buffer->tail) {\n",
      "         ^\n",
      "/usr/share/arduino/hardware/arduino//cores/arduino/HardwareSerial.cpp: In function ‘void __vector_18()’:\n",
      "/usr/share/arduino/hardware/arduino//cores/arduino/HardwareSerial.cpp:129:21: warning: unused variable ‘c’ [-Wunused-variable]\n",
      "       unsigned char c = UDR0;\n",
      "                     ^\n",
      "/usr/share/arduino/hardware/arduino//cores/arduino/HardwareSerial.cpp: In member function ‘void HardwareSerial::begin(long unsigned int, byte)’:\n",
      "/usr/share/arduino/hardware/arduino//cores/arduino/HardwareSerial.cpp:370:11: warning: unused variable ‘current_config’ [-Wunused-variable]\n",
      "   uint8_t current_config;\n",
      "           ^\n",
      "/usr/share/arduino/hardware/arduino//cores/arduino/HardwareSerial.cpp: In member function ‘virtual size_t HardwareSerial::write(uint8_t)’:\n",
      "/usr/share/arduino/hardware/arduino//cores/arduino/HardwareSerial.cpp:469:12: warning: comparison between signed and unsigned integer expressions [-Wsign-compare]\n",
      "   while (i == _tx_buffer->tail)\n",
      "            ^\n",
      "In file included from /usr/share/arduino/libraries/Firmata/Firmata.h:16:0,\n",
      "                 from /usr/share/arduino/libraries/Firmata/Firmata.cpp:17:\n",
      "/usr/share/arduino/libraries/Firmata/Boards.h: In function ‘unsigned char writePort(byte, byte, byte)’:\n",
      "/usr/share/arduino/libraries/Firmata/Boards.h:355:1: warning: no return statement in function returning non-void [-Wreturn-type]\n",
      " }\n",
      " ^\n",
      "\n",
      "avrdude: AVR device initialized and ready to accept instructions\n",
      "avrdude: Device signature = 0x1e950f (probably m328p)\n",
      "avrdude: reading input file \"build-uno/firmata.hex\"\n",
      "avrdude: writing flash (9962 bytes):\n",
      "avrdude: 9962 bytes of flash written\n",
      "\n",
      "avrdude done.  Thank you.\n",
      "\n"
     ]
    },
    {
     "data": {
      "text/plain": [
       "0"
      ]
     },
     "execution_count": 2,
     "metadata": {},
     "output_type": "execute_result"
    }
   ],
   "source": [
    "import chestnut.arduino\n",
    "\n",
    "chestnut.arduino.flash_firmata(board='uno', port= port, debug=True) # port from Linux"
   ]
  },
  {
   "cell_type": "markdown",
   "metadata": {},
   "source": [
    "Use Firmata to connect to the Arduino."
   ]
  },
  {
   "cell_type": "code",
   "execution_count": 5,
   "metadata": {},
   "outputs": [],
   "source": [
    "from pyfirmata import Arduino\n",
    "board = Arduino(port)  #port from Linux\n",
    "#board = Arduino('/dev/ttyUSB0') # manuallly pasting'"
   ]
  },
  {
   "cell_type": "markdown",
   "metadata": {},
   "source": [
    "Make pin 13 blink."
   ]
  },
  {
   "cell_type": "code",
   "execution_count": 13,
   "metadata": {},
   "outputs": [
    {
     "ename": "ModuleNotFoundError",
     "evalue": "No module named 'mfrc522'",
     "output_type": "error",
     "traceback": [
      "\u001b[0;31m---------------------------------------------------------------------------\u001b[0m",
      "\u001b[0;31mModuleNotFoundError\u001b[0m                       Traceback (most recent call last)",
      "\u001b[0;32m<ipython-input-13-bdaef3a36f0c>\u001b[0m in \u001b[0;36m<module>\u001b[0;34m\u001b[0m\n\u001b[1;32m      1\u001b[0m \u001b[0;32mimport\u001b[0m \u001b[0mRPi\u001b[0m\u001b[0;34m.\u001b[0m\u001b[0mGPIO\u001b[0m \u001b[0;32mas\u001b[0m \u001b[0mgpio\u001b[0m\u001b[0;34m\u001b[0m\u001b[0;34m\u001b[0m\u001b[0m\n\u001b[0;32m----> 2\u001b[0;31m \u001b[0;32mfrom\u001b[0m \u001b[0mmfrc522\u001b[0m \u001b[0;32mimport\u001b[0m \u001b[0mSimpleMFRC522\u001b[0m\u001b[0;34m\u001b[0m\u001b[0;34m\u001b[0m\u001b[0m\n\u001b[0m\u001b[1;32m      3\u001b[0m \u001b[0mcardWrite\u001b[0m \u001b[0;34m=\u001b[0m \u001b[0mSimpleMFRC522\u001b[0m\u001b[0;34m(\u001b[0m\u001b[0;34m)\u001b[0m\u001b[0;34m\u001b[0m\u001b[0;34m\u001b[0m\u001b[0m\n\u001b[1;32m      4\u001b[0m \u001b[0;32mtry\u001b[0m\u001b[0;34m:\u001b[0m\u001b[0;34m\u001b[0m\u001b[0;34m\u001b[0m\u001b[0m\n\u001b[1;32m      5\u001b[0m         \u001b[0mtext\u001b[0m \u001b[0;34m=\u001b[0m \u001b[0mraw_input\u001b[0m\u001b[0;34m(\u001b[0m\u001b[0;34m'Enter data for writing to card'\u001b[0m\u001b[0;34m)\u001b[0m\u001b[0;34m\u001b[0m\u001b[0;34m\u001b[0m\u001b[0m\n",
      "\u001b[0;31mModuleNotFoundError\u001b[0m: No module named 'mfrc522'"
     ]
    }
   ],
   "source": [
    "import RPi.GPIO as gpio\n",
    "from mfrc522 import SimpleMFRC522\n",
    "cardWrite = SimpleMFRC522()\n",
    "try:\n",
    "        text = raw_input('Enter data for writing to card')\n",
    "        print (\"place your tag to write: \")\n",
    "        cardWrite.write(text)\n",
    "        print (\"Write Successfully\")\n",
    "finally:\n",
    "        gpio.cleanup()"
   ]
  },
  {
   "cell_type": "markdown",
   "metadata": {
    "run_control": {
     "frozen": true,
     "read_only": true
    }
   },
   "source": [
    "###### &copy; 2017 Cisco and/or its affiliates. All rights reserved. This document is Cisco Public."
   ]
  },
  {
   "cell_type": "markdown",
   "metadata": {},
   "source": [
    "**modified by uwe.starke@hs-wismar.de**"
   ]
  },
  {
   "cell_type": "code",
   "execution_count": 15,
   "metadata": {},
   "outputs": [
    {
     "name": "stdout",
     "output_type": "stream",
     "text": [
      "Scanning for a  card..\n",
      "to cancel press ctrl+c\n",
      "111427494610\n",
      "Aashika                                         \n"
     ]
    }
   ],
   "source": [
    "import RPi.GPIO as gpio\n",
    "from mfrc522 import SimpleMFRC522\n",
    "CardReader = SimpleMFRC522()\n",
    "print ('Scanning for a  card..')\n",
    "print ('to cancel press ctrl+c')\n",
    "try:\n",
    "        id, text = CardReader.read()\n",
    "        print (id)\n",
    "        print(text)\n",
    "finally:\n",
    "        gpio.cleanup()"
   ]
  }
 ],
 "metadata": {
  "kernelspec": {
   "display_name": "Python 3 (ipykernel)",
   "language": "python",
   "name": "python3"
  },
  "language_info": {
   "codemirror_mode": {
    "name": "ipython",
    "version": 3
   },
   "file_extension": ".py",
   "mimetype": "text/x-python",
   "name": "python",
   "nbconvert_exporter": "python",
   "pygments_lexer": "ipython3",
   "version": "3.11.4"
  }
 },
 "nbformat": 4,
 "nbformat_minor": 1
}
