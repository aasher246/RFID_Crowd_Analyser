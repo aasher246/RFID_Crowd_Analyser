{
 "cells": [
  {
   "cell_type": "markdown",
   "metadata": {
    "run_control": {
     "frozen": true,
     "read_only": true
    }
   },
   "source": [
    "![Cisco Networking Academy](/nbextensions/chestnut/cisco-mwo-heading.png)"
   ]
  },
  {
   "cell_type": "markdown",
   "metadata": {},
   "source": [
    "Connect an Arduino to the Raspberry Pi using USB.\n",
    "\n",
    "Run the following to flash the Arduino with Standard Firmata. The arguments are optional.\n",
    "\n",
    "**1 First command are magic commands to ask Linux, the output must manually pasted in the flushing commands**"
   ]
  },
  {
   "cell_type": "code",
   "execution_count": 1,
   "metadata": {},
   "outputs": [
    {
     "name": "stdout",
     "output_type": "stream",
     "text": [
      "ttyACM0\n"
     ]
    }
   ],
   "source": [
    "%%bash\n",
    "# ^^^ The commands below are to be executed as Linux Bash commands. \n",
    "# You can get the same output by opening a terminal connection to the device and executing these commands manually.\n",
    "\n",
    "dmesg | grep -v disconnect | grep -Eo \"tty(ACM|USB).\" | tail -1 "
   ]
  },
  {
   "cell_type": "markdown",
   "metadata": {},
   "source": [
    "**2 Automatic setting a variable for the internal Linux-Arduino-Port** "
   ]
  },
  {
   "cell_type": "code",
   "execution_count": 2,
   "metadata": {},
   "outputs": [
    {
     "name": "stdout",
     "output_type": "stream",
     "text": [
      "/dev/ttyACM0\n"
     ]
    }
   ],
   "source": [
    "from subprocess import Popen, PIPE\n",
    "\n",
    "stdout = Popen('dmesg | grep -v disconnect | grep -Eo \"tty(ACM|USB).\" | tail -1', shell=True, stdout=PIPE).stdout\n",
    "output = stdout.read()  # Output in binary form'\n",
    "#print (output)\n",
    "encoding = 'utf-8'     \n",
    "port = str(output, encoding) #encoding to str\n",
    "port_str = '/dev/' + port    # build the dev from Linux\n",
    "port = port_str.split('\\n')[0] # remove a \\n inside the string\n",
    "print (port)\n"
   ]
  },
  {
   "cell_type": "code",
   "execution_count": 3,
   "metadata": {},
   "outputs": [
    {
     "name": "stdout",
     "output_type": "stream",
     "text": [
      "Flashing Standard Firmata to a USB-connected Arduino. Please wait...\n",
      "-------------------------\n",
      "Arduino.mk Configuration:\n",
      "- [AUTODETECTED]       CURRENT_OS = LINUX \n",
      "- [USER]               ARDUINO_DIR = /usr/share/arduino \n",
      "- [USER]               ARDMK_DIR = /usr/share/arduino \n",
      "- [AUTODETECTED]       ARDUINO_VERSION = 105 \n",
      "- [DEFAULT]            ARCHITECTURE =  \n",
      "- [DEFAULT]            ARDMK_VENDOR = arduino \n",
      "- [DEFAULT]            ARDUINO_SKETCHBOOK =  \n",
      "- [BUNDLED]            AVR_TOOLS_DIR = /usr/share/arduino/hardware/tools/avr (in Arduino distribution)\n",
      "- [COMPUTED]           ARDUINO_LIB_PATH = /usr/share/arduino/libraries (from ARDUINO_DIR)\n",
      "- [COMPUTED]           ARDUINO_VAR_PATH = /usr/share/arduino/hardware/arduino//variants (from ARDUINO_DIR)\n",
      "- [COMPUTED]           BOARDS_TXT = /usr/share/arduino/hardware/arduino//boards.txt (from ARDUINO_DIR)\n",
      "- [DEFAULT]            USER_LIB_PATH = /libraries (in user sketchbook)\n",
      "- [DEFAULT]            PRE_BUILD_HOOK = pre-build-hook.sh \n",
      "- [DEFAULT]            BOARD_TAG = uno \n",
      "- [COMPUTED]           CORE = arduino (from build.core)\n",
      "- [COMPUTED]           VARIANT = standard (from build.variant)\n",
      "- [COMPUTED]           OBJDIR = build-uno (from BOARD_TAG)\n",
      "- [COMPUTED]           ARDUINO_CORE_PATH = /usr/share/arduino/hardware/arduino//cores/arduino (from ARDUINO_DIR, BOARD_TAG and boards.txt)\n",
      "- [ASSUMED]            MONITOR_BAUDRATE = 9600 \n",
      "- [DEFAULT]            OPTIMIZATION_LEVEL = s \n",
      "- [DEFAULT]            MCU_FLAG_NAME = mmcu \n",
      "- [DEFAULT]            CFLAGS_STD = -std=gnu11 -flto -fno-fat-lto-objects \n",
      "- [DEFAULT]            CXXFLAGS_STD = -std=gnu++11 -fno-threadsafe-statics -flto \n",
      "- [COMPUTED]           DEVICE_PATH = /dev/ttyACM0 (from MONITOR_PORT)\n",
      "- [DEFAULT]            FORCE_MONITOR_PORT =  \n",
      "- [AUTODETECTED]       Size utility: AVR-aware for enhanced output\n",
      "-\n",
      "-                      ARDUINO_LIBS =\n",
      "- [SYSTEM]               Firmata\n",
      "- [SYSTEM]               Servo\n",
      "- [SYSTEM]               Wire\n",
      "- [COMPUTED]           BOOTLOADER_PARENT = /usr/share/arduino/hardware/arduino//bootloaders (from ARDUINO_DIR)\n",
      "- [COMPUTED]           ARDMK_VERSION = 1.5 \n",
      "- [COMPUTED]           CC_VERSION = 5.4.0 (avr-gcc)\n",
      "-------------------------\n",
      "mkdir -p build-uno\n",
      "make reset\n",
      "make[1]: Entering directory '/root/.cache/chestnut/arduino/firmata'\n",
      "/usr/bin/ard-reset-arduino  /dev/ttyACM0\n",
      "make[1]: Leaving directory '/root/.cache/chestnut/arduino/firmata'\n",
      "make do_upload\n",
      "make[1]: Entering directory '/root/.cache/chestnut/arduino/firmata'\n",
      "/usr/share/arduino/hardware/tools/avr/../avrdude -q -V -p atmega328p -C /usr/share/arduino/hardware/tools/avr/../avrdude.conf -D -c arduino -b 115200 -P /dev/ttyACM0 \\\n",
      "\t\t-U flash:w:build-uno/firmata.hex:i\n",
      "make[1]: Leaving directory '/root/.cache/chestnut/arduino/firmata'\n",
      "Done flashing.\n"
     ]
    },
    {
     "name": "stderr",
     "output_type": "stream",
     "text": [
      "make: Warning: File 'build-uno/core/CDC.cpp.d' has modification time 2092 s in the future\n",
      "make[1]: Warning: File 'build-uno/core/CDC.cpp.d' has modification time 2092 s in the future\n",
      "make[1]: warning:  Clock skew detected.  Your build may be incomplete.\n",
      "make[1]: Warning: File 'build-uno/core/CDC.cpp.d' has modification time 2090 s in the future\n",
      "\n",
      "avrdude: AVR device initialized and ready to accept instructions\n",
      "avrdude: Device signature = 0x1e950f (probably m328p)\n",
      "avrdude: reading input file \"build-uno/firmata.hex\"\n",
      "avrdude: writing flash (9962 bytes):\n",
      "avrdude: 9962 bytes of flash written\n",
      "\n",
      "avrdude done.  Thank you.\n",
      "\n",
      "make[1]: warning:  Clock skew detected.  Your build may be incomplete.\n",
      "make: warning:  Clock skew detected.  Your build may be incomplete.\n"
     ]
    },
    {
     "data": {
      "text/plain": [
       "0"
      ]
     },
     "execution_count": 3,
     "metadata": {},
     "output_type": "execute_result"
    }
   ],
   "source": [
    "import chestnut.arduino\n",
    "\n",
    "chestnut.arduino.flash_firmata(board='uno', port= port, debug=True) # port from Linux"
   ]
  },
  {
   "cell_type": "markdown",
   "metadata": {},
   "source": [
    "Use Firmata to connect to the Arduino."
   ]
  },
  {
   "cell_type": "code",
   "execution_count": 5,
   "metadata": {},
   "outputs": [],
   "source": [
    "from pyfirmata import Arduino\n",
    "board = Arduino(port)  #port from Linux\n",
    "#board = Arduino('/dev/ttyUSB0') # manuallly pasting'"
   ]
  },
  {
   "cell_type": "markdown",
   "metadata": {},
   "source": [
    "Make pin 13 blink."
   ]
  },
  {
   "cell_type": "code",
   "execution_count": 6,
   "metadata": {},
   "outputs": [
    {
     "ename": "KeyboardInterrupt",
     "evalue": "",
     "output_type": "error",
     "traceback": [
      "\u001b[0;31m---------------------------------------------------------------------------\u001b[0m",
      "\u001b[0;31mKeyboardInterrupt\u001b[0m                         Traceback (most recent call last)",
      "\u001b[0;32m<ipython-input-6-ea4212ade7cc>\u001b[0m in \u001b[0;36m<module>\u001b[0;34m\u001b[0m\n\u001b[1;32m      3\u001b[0m \u001b[0;32mwhile\u001b[0m \u001b[0;32mTrue\u001b[0m\u001b[0;34m:\u001b[0m\u001b[0;34m\u001b[0m\u001b[0;34m\u001b[0m\u001b[0m\n\u001b[1;32m      4\u001b[0m     \u001b[0mboard\u001b[0m\u001b[0;34m.\u001b[0m\u001b[0mdigital\u001b[0m\u001b[0;34m[\u001b[0m\u001b[0;36m13\u001b[0m\u001b[0;34m]\u001b[0m\u001b[0;34m.\u001b[0m\u001b[0mwrite\u001b[0m\u001b[0;34m(\u001b[0m\u001b[0;36m1\u001b[0m\u001b[0;34m)\u001b[0m\u001b[0;34m\u001b[0m\u001b[0;34m\u001b[0m\u001b[0m\n\u001b[0;32m----> 5\u001b[0;31m     \u001b[0mtime\u001b[0m\u001b[0;34m.\u001b[0m\u001b[0msleep\u001b[0m\u001b[0;34m(\u001b[0m\u001b[0;36m1\u001b[0m\u001b[0;34m)\u001b[0m\u001b[0;34m\u001b[0m\u001b[0;34m\u001b[0m\u001b[0m\n\u001b[0m\u001b[1;32m      6\u001b[0m     \u001b[0mboard\u001b[0m\u001b[0;34m.\u001b[0m\u001b[0mdigital\u001b[0m\u001b[0;34m[\u001b[0m\u001b[0;36m13\u001b[0m\u001b[0;34m]\u001b[0m\u001b[0;34m.\u001b[0m\u001b[0mwrite\u001b[0m\u001b[0;34m(\u001b[0m\u001b[0;36m0\u001b[0m\u001b[0;34m)\u001b[0m\u001b[0;34m\u001b[0m\u001b[0;34m\u001b[0m\u001b[0m\n\u001b[1;32m      7\u001b[0m     \u001b[0mtime\u001b[0m\u001b[0;34m.\u001b[0m\u001b[0msleep\u001b[0m\u001b[0;34m(\u001b[0m\u001b[0;36m.9\u001b[0m\u001b[0;34m)\u001b[0m\u001b[0;34m\u001b[0m\u001b[0;34m\u001b[0m\u001b[0m\n",
      "\u001b[0;31mKeyboardInterrupt\u001b[0m: "
     ]
    }
   ],
   "source": [
    "import time\n",
    "\n",
    "while True:\n",
    "    board.digital[13].write(1)\n",
    "    time.sleep(1)\n",
    "    board.digital[13].write(0)\n",
    "    time.sleep(.9)"
   ]
  },
  {
   "cell_type": "markdown",
   "metadata": {
    "run_control": {
     "frozen": true,
     "read_only": true
    }
   },
   "source": [
    "###### &copy; 2017 Cisco and/or its affiliates. All rights reserved. This document is Cisco Public."
   ]
  },
  {
   "cell_type": "markdown",
   "metadata": {},
   "source": [
    "**modified by uwe.starke@hs-wismar.de**"
   ]
  }
 ],
 "metadata": {
  "kernelspec": {
   "display_name": "Python 3",
   "language": "python",
   "name": "python3"
  },
  "language_info": {
   "codemirror_mode": {
    "name": "ipython",
    "version": 3
   },
   "file_extension": ".py",
   "mimetype": "text/x-python",
   "name": "python",
   "nbconvert_exporter": "python",
   "pygments_lexer": "ipython3",
   "version": "3.7.3"
  }
 },
 "nbformat": 4,
 "nbformat_minor": 1
}
